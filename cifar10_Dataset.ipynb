{
  "nbformat": 4,
  "nbformat_minor": 0,
  "metadata": {
    "colab": {
      "name": "cifar10_Dataset.ipynb",
      "provenance": [],
      "authorship_tag": "ABX9TyPp6JkFzJhb43Ktn1CjFf7p",
      "include_colab_link": true
    },
    "kernelspec": {
      "name": "python3",
      "display_name": "Python 3"
    },
    "accelerator": "TPU"
  },
  "cells": [
    {
      "cell_type": "markdown",
      "metadata": {
        "id": "view-in-github",
        "colab_type": "text"
      },
      "source": [
        "<a href=\"https://colab.research.google.com/github/yashraj02/Deep-Learning-OpenCV/blob/master/cifar10_Dataset.ipynb\" target=\"_parent\"><img src=\"https://colab.research.google.com/assets/colab-badge.svg\" alt=\"Open In Colab\"/></a>"
      ]
    },
    {
      "cell_type": "code",
      "metadata": {
        "id": "PeqwrFnbKr3E",
        "colab_type": "code",
        "colab": {
          "base_uri": "https://localhost:8080/",
          "height": 70
        },
        "outputId": "13582c59-9d62-4c1d-afec-3b5ae92946c0"
      },
      "source": [
        "from keras.datasets import cifar10\n",
        "(xtrain,ytrain) ,(xtest,ytest) = cifar10.load_data()"
      ],
      "execution_count": 1,
      "outputs": [
        {
          "output_type": "stream",
          "text": [
            "Using TensorFlow backend.\n"
          ],
          "name": "stderr"
        },
        {
          "output_type": "stream",
          "text": [
            "Downloading data from https://www.cs.toronto.edu/~kriz/cifar-10-python.tar.gz\n",
            "170500096/170498071 [==============================] - 2s 0us/step\n"
          ],
          "name": "stdout"
        }
      ]
    },
    {
      "cell_type": "code",
      "metadata": {
        "id": "TPkkioV5K829",
        "colab_type": "code",
        "colab": {
          "base_uri": "https://localhost:8080/",
          "height": 70
        },
        "outputId": "72e6c1e0-dd17-4163-8e7d-556d1ab0416e"
      },
      "source": [
        "print(xtrain.shape)\n",
        "print(xtrain.max())\n",
        "print(xtest.shape)"
      ],
      "execution_count": 2,
      "outputs": [
        {
          "output_type": "stream",
          "text": [
            "(50000, 32, 32, 3)\n",
            "255\n",
            "(10000, 32, 32, 3)\n"
          ],
          "name": "stdout"
        }
      ]
    },
    {
      "cell_type": "code",
      "metadata": {
        "id": "nwDwVidNLBhn",
        "colab_type": "code",
        "colab": {}
      },
      "source": [
        "scaled_xtrain = xtrain/xtrain.max()\n",
        "scaled_xtest = xtest/xtrain.max()"
      ],
      "execution_count": 0,
      "outputs": []
    },
    {
      "cell_type": "code",
      "metadata": {
        "id": "yg75ATSWLUOM",
        "colab_type": "code",
        "colab": {}
      },
      "source": [
        "from keras.utils.np_utils import to_categorical\n",
        "ytrain_cat = to_categorical(ytrain)\n",
        "ytest_cat = to_categorical(ytest)"
      ],
      "execution_count": 0,
      "outputs": []
    },
    {
      "cell_type": "code",
      "metadata": {
        "id": "vAVMG-lVLksu",
        "colab_type": "code",
        "colab": {}
      },
      "source": [
        "from keras.models import Sequential\n",
        "from keras.layers import Dense,Conv2D,MaxPool2D,Flatten"
      ],
      "execution_count": 0,
      "outputs": []
    },
    {
      "cell_type": "code",
      "metadata": {
        "id": "mRePka3lPG2O",
        "colab_type": "code",
        "colab": {}
      },
      "source": [
        "model = Sequential()\n",
        "model.add(Conv2D(filters=32,kernel_size=(4,4), input_shape=(32,32,3)))\n",
        "model.add(MaxPool2D(pool_size=(2,2)))\n",
        "\n",
        "model.add(Conv2D(filters=32,kernel_size=(4,4),input_shape=(32,32,3)))\n",
        "model.add(MaxPool2D(pool_size=(2,2)))\n",
        "\n",
        "model.add(Flatten())\n",
        "\n",
        "model.add(Dense(512,activation='relu'))\n",
        "\n",
        "model.add(Dense(10,activation='softmax'))\n",
        "\n",
        "model.compile(loss='categorical_crossentropy', optimizer='rmsprop', metrics=['accuracy'])"
      ],
      "execution_count": 0,
      "outputs": []
    },
    {
      "cell_type": "code",
      "metadata": {
        "id": "HUG9-CWbPW2n",
        "colab_type": "code",
        "colab": {
          "base_uri": "https://localhost:8080/",
          "height": 1000
        },
        "outputId": "57cd58c8-747c-4d0d-d5f7-80ee682e0860"
      },
      "source": [
        "model.fit(scaled_xtrain,ytrain_cat,verbose=1,epochs=30)"
      ],
      "execution_count": 23,
      "outputs": [
        {
          "output_type": "stream",
          "text": [
            "Epoch 1/30\n",
            "50000/50000 [==============================] - 63s 1ms/step - loss: 1.1775 - accuracy: 0.5911\n",
            "Epoch 2/30\n",
            "50000/50000 [==============================] - 63s 1ms/step - loss: 0.9623 - accuracy: 0.6700\n",
            "Epoch 3/30\n",
            "50000/50000 [==============================] - 62s 1ms/step - loss: 0.8037 - accuracy: 0.7263\n",
            "Epoch 4/30\n",
            "50000/50000 [==============================] - 61s 1ms/step - loss: 0.6665 - accuracy: 0.7729\n",
            "Epoch 5/30\n",
            "50000/50000 [==============================] - 61s 1ms/step - loss: 0.5412 - accuracy: 0.8173\n",
            "Epoch 6/30\n",
            "50000/50000 [==============================] - 62s 1ms/step - loss: 0.4310 - accuracy: 0.8551\n",
            "Epoch 7/30\n",
            "50000/50000 [==============================] - 63s 1ms/step - loss: 0.3413 - accuracy: 0.8852\n",
            "Epoch 8/30\n",
            "50000/50000 [==============================] - 63s 1ms/step - loss: 0.2667 - accuracy: 0.9101\n",
            "Epoch 9/30\n",
            "50000/50000 [==============================] - 62s 1ms/step - loss: 0.2163 - accuracy: 0.9264\n",
            "Epoch 10/30\n",
            "50000/50000 [==============================] - 62s 1ms/step - loss: 0.1789 - accuracy: 0.9405\n",
            "Epoch 11/30\n",
            "50000/50000 [==============================] - 62s 1ms/step - loss: 0.1584 - accuracy: 0.9480\n",
            "Epoch 12/30\n",
            "50000/50000 [==============================] - 63s 1ms/step - loss: 0.1460 - accuracy: 0.9529\n",
            "Epoch 13/30\n",
            "50000/50000 [==============================] - 63s 1ms/step - loss: 0.1313 - accuracy: 0.9584\n",
            "Epoch 14/30\n",
            "50000/50000 [==============================] - 64s 1ms/step - loss: 0.1210 - accuracy: 0.9614\n",
            "Epoch 15/30\n",
            "50000/50000 [==============================] - 63s 1ms/step - loss: 0.1233 - accuracy: 0.9629\n",
            "Epoch 16/30\n",
            "50000/50000 [==============================] - 62s 1ms/step - loss: 0.1191 - accuracy: 0.9656\n",
            "Epoch 17/30\n",
            "50000/50000 [==============================] - 62s 1ms/step - loss: 0.1120 - accuracy: 0.9686\n",
            "Epoch 18/30\n",
            "50000/50000 [==============================] - 62s 1ms/step - loss: 0.1165 - accuracy: 0.9675\n",
            "Epoch 19/30\n",
            "50000/50000 [==============================] - 62s 1ms/step - loss: 0.1047 - accuracy: 0.9707\n",
            "Epoch 20/30\n",
            "50000/50000 [==============================] - 64s 1ms/step - loss: 0.1044 - accuracy: 0.9707\n",
            "Epoch 21/30\n",
            "50000/50000 [==============================] - 64s 1ms/step - loss: 0.1056 - accuracy: 0.9713\n",
            "Epoch 22/30\n",
            "50000/50000 [==============================] - 64s 1ms/step - loss: 0.1049 - accuracy: 0.9725\n",
            "Epoch 23/30\n",
            "50000/50000 [==============================] - 62s 1ms/step - loss: 0.1059 - accuracy: 0.9742\n",
            "Epoch 24/30\n",
            "50000/50000 [==============================] - 62s 1ms/step - loss: 0.1017 - accuracy: 0.9744\n",
            "Epoch 25/30\n",
            "50000/50000 [==============================] - 63s 1ms/step - loss: 0.1028 - accuracy: 0.9744\n",
            "Epoch 26/30\n",
            "50000/50000 [==============================] - 64s 1ms/step - loss: 0.0992 - accuracy: 0.9761\n",
            "Epoch 27/30\n",
            "50000/50000 [==============================] - 64s 1ms/step - loss: 0.1008 - accuracy: 0.9763\n",
            "Epoch 28/30\n",
            "50000/50000 [==============================] - 63s 1ms/step - loss: 0.1000 - accuracy: 0.9776\n",
            "Epoch 29/30\n",
            "50000/50000 [==============================] - 62s 1ms/step - loss: 0.0991 - accuracy: 0.9779\n",
            "Epoch 30/30\n",
            "50000/50000 [==============================] - 62s 1ms/step - loss: 0.0947 - accuracy: 0.9791\n"
          ],
          "name": "stdout"
        },
        {
          "output_type": "execute_result",
          "data": {
            "text/plain": [
              "<keras.callbacks.callbacks.History at 0x7fd632e9bef0>"
            ]
          },
          "metadata": {
            "tags": []
          },
          "execution_count": 23
        }
      ]
    },
    {
      "cell_type": "code",
      "metadata": {
        "id": "SojHAYLvNkCk",
        "colab_type": "code",
        "colab": {
          "base_uri": "https://localhost:8080/",
          "height": 52
        },
        "outputId": "bed75846-d80c-4690-8023-99318fa0d140"
      },
      "source": [
        "model.evaluate(scaled_xtest,ytest_cat)"
      ],
      "execution_count": 24,
      "outputs": [
        {
          "output_type": "stream",
          "text": [
            "10000/10000 [==============================] - 4s 376us/step\n"
          ],
          "name": "stdout"
        },
        {
          "output_type": "execute_result",
          "data": {
            "text/plain": [
              "[5.808803747177124, 0.6488999724388123]"
            ]
          },
          "metadata": {
            "tags": []
          },
          "execution_count": 24
        }
      ]
    },
    {
      "cell_type": "code",
      "metadata": {
        "id": "bEKeZrOGM687",
        "colab_type": "code",
        "colab": {}
      },
      "source": [
        "from sklearn.metrics import classification_report,confusion_matrix"
      ],
      "execution_count": 0,
      "outputs": []
    },
    {
      "cell_type": "code",
      "metadata": {
        "id": "lAz-PN10NBPZ",
        "colab_type": "code",
        "colab": {
          "base_uri": "https://localhost:8080/",
          "height": 319
        },
        "outputId": "37bf1bdf-d993-4103-9f77-252a1fb190a0"
      },
      "source": [
        "predictions = model.predict_classes(scaled_xtest)\n",
        "print(classification_report(ytest,predictions))"
      ],
      "execution_count": 25,
      "outputs": [
        {
          "output_type": "stream",
          "text": [
            "              precision    recall  f1-score   support\n",
            "\n",
            "           0       0.68      0.69      0.68      1000\n",
            "           1       0.80      0.75      0.77      1000\n",
            "           2       0.62      0.50      0.55      1000\n",
            "           3       0.47      0.46      0.46      1000\n",
            "           4       0.58      0.63      0.60      1000\n",
            "           5       0.52      0.56      0.54      1000\n",
            "           6       0.63      0.80      0.71      1000\n",
            "           7       0.73      0.69      0.71      1000\n",
            "           8       0.80      0.70      0.75      1000\n",
            "           9       0.70      0.72      0.71      1000\n",
            "\n",
            "    accuracy                           0.65     10000\n",
            "   macro avg       0.65      0.65      0.65     10000\n",
            "weighted avg       0.65      0.65      0.65     10000\n",
            "\n"
          ],
          "name": "stdout"
        }
      ]
    }
  ]
}