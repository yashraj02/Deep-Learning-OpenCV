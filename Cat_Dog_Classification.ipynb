{
  "nbformat": 4,
  "nbformat_minor": 0,
  "metadata": {
    "colab": {
      "name": "Cat_Dog_Classification.ipynb",
      "provenance": [],
      "mount_file_id": "1oqjQCCGjaoBZaEi98VEAPL6N75-vezoJ",
      "authorship_tag": "ABX9TyP56kJAoSfdCfoY6pjwojqy",
      "include_colab_link": true
    },
    "kernelspec": {
      "name": "python3",
      "display_name": "Python 3"
    },
    "accelerator": "TPU"
  },
  "cells": [
    {
      "cell_type": "markdown",
      "metadata": {
        "id": "view-in-github",
        "colab_type": "text"
      },
      "source": [
        "<a href=\"https://colab.research.google.com/github/yashraj02/Deep-Learning-OpenCV/blob/master/Cat_Dog_Classification.ipynb\" target=\"_parent\"><img src=\"https://colab.research.google.com/assets/colab-badge.svg\" alt=\"Open In Colab\"/></a>"
      ]
    },
    {
      "cell_type": "code",
      "metadata": {
        "id": "POrnLcxHrFZw",
        "colab_type": "code",
        "colab": {}
      },
      "source": [
        "from keras.preprocessing.image import ImageDataGenerator\n",
        "image_gen = ImageDataGenerator(rotation_range=30,\n",
        "                               width_shift_range=0.1,\n",
        "                               height_shift_range=0.1,\n",
        "                               rescale=1/255,\n",
        "                               shear_range=0.2,\n",
        "                               zoom_range=0.2,\n",
        "                               horizontal_flip=True,\n",
        "                               fill_mode='nearest')"
      ],
      "execution_count": 0,
      "outputs": []
    },
    {
      "cell_type": "code",
      "metadata": {
        "id": "Po-qgdNL8V_G",
        "colab_type": "code",
        "colab": {}
      },
      "source": [
        "batch_size = 16\n",
        "input_shape = (150,150,3)"
      ],
      "execution_count": 0,
      "outputs": []
    },
    {
      "cell_type": "code",
      "metadata": {
        "id": "9vIAuki9ve8S",
        "colab_type": "code",
        "colab": {
          "base_uri": "https://localhost:8080/",
          "height": 35
        },
        "outputId": "8ae87bd9-6d66-46a1-f042-7751cf7ca39f"
      },
      "source": [
        "train = image_gen.flow_from_directory('/content/drive/My Drive/Data Science/Cats & Dog CNN/Colab Zip Extracted/dogscats/train',\n",
        "                                        target_size = input_shape[:2],\n",
        "                                      batch_size = batch_size,\n",
        "                                      class_mode='binary')"
      ],
      "execution_count": 24,
      "outputs": [
        {
          "output_type": "stream",
          "text": [
            "Found 23000 images belonging to 2 classes.\n"
          ],
          "name": "stdout"
        }
      ]
    },
    {
      "cell_type": "code",
      "metadata": {
        "id": "zPcQFuE_DXvt",
        "colab_type": "code",
        "colab": {
          "base_uri": "https://localhost:8080/",
          "height": 35
        },
        "outputId": "4abcef47-bfc4-4c3d-8dee-2225b441ce32"
      },
      "source": [
        "train.class_indices"
      ],
      "execution_count": 43,
      "outputs": [
        {
          "output_type": "execute_result",
          "data": {
            "text/plain": [
              "{'cats': 0, 'dogs': 1}"
            ]
          },
          "metadata": {
            "tags": []
          },
          "execution_count": 43
        }
      ]
    },
    {
      "cell_type": "code",
      "metadata": {
        "id": "PLAg4P4Uv9ot",
        "colab_type": "code",
        "colab": {
          "base_uri": "https://localhost:8080/",
          "height": 35
        },
        "outputId": "2ecddeee-dc3d-4f5f-c839-61eb69346c60"
      },
      "source": [
        "test = image_gen.flow_from_directory('/content/drive/My Drive/Data Science/Cats & Dog CNN/Colab Zip Extracted/dogscats/test',\n",
        "                                        target_size = input_shape[:2],\n",
        "                                      batch_size = batch_size,\n",
        "                                      class_mode='binary')"
      ],
      "execution_count": 25,
      "outputs": [
        {
          "output_type": "stream",
          "text": [
            "Found 2000 images belonging to 2 classes.\n"
          ],
          "name": "stdout"
        }
      ]
    },
    {
      "cell_type": "code",
      "metadata": {
        "id": "Pi-zdKb3C_4j",
        "colab_type": "code",
        "colab": {}
      },
      "source": [
        "from keras.models import Sequential\n",
        "from keras.layers import Activation, MaxPooling2D, Flatten, Dropout, Conv2D, Dense\n",
        "\n",
        "model = Sequential()\n",
        "\n",
        "model.add(Conv2D(filters=32, kernel_size=(3,3), input_shape = input_shape, activation='relu'))\n",
        "model.add(MaxPooling2D(pool_size=(2,2)))\n",
        "\n",
        "model.add(Conv2D(filters=64, kernel_size=(3,3), input_shape = input_shape, activation='relu'))\n",
        "model.add(MaxPooling2D(pool_size=(2,2)))\n",
        "\n",
        "model.add(Conv2D(filters=64, kernel_size=(3,3), input_shape = input_shape, activation='relu'))\n",
        "model.add(MaxPooling2D(pool_size=(2,2)))\n",
        "\n",
        "model.add(Flatten())\n",
        "\n",
        "model.add(Dense(128))\n",
        "model.add(Activation('relu'))\n",
        "\n",
        "model.add(Dropout(0.5))\n",
        "\n",
        "model.add(Dense(1))\n",
        "model.add(Activation('sigmoid'))\n",
        "\n",
        "model.compile(loss='binary_crossentropy', optimizer='adam', metrics=['accuracy'])"
      ],
      "execution_count": 0,
      "outputs": []
    },
    {
      "cell_type": "code",
      "metadata": {
        "id": "RMhOcKcmH34X",
        "colab_type": "code",
        "colab": {
          "base_uri": "https://localhost:8080/",
          "height": 586
        },
        "outputId": "adc207d3-c445-407a-8564-6b60159f139a"
      },
      "source": [
        "model.summary()"
      ],
      "execution_count": 27,
      "outputs": [
        {
          "output_type": "stream",
          "text": [
            "Model: \"sequential_5\"\n",
            "_________________________________________________________________\n",
            "Layer (type)                 Output Shape              Param #   \n",
            "=================================================================\n",
            "conv2d_13 (Conv2D)           (None, 148, 148, 32)      896       \n",
            "_________________________________________________________________\n",
            "max_pooling2d_13 (MaxPooling (None, 74, 74, 32)        0         \n",
            "_________________________________________________________________\n",
            "conv2d_14 (Conv2D)           (None, 72, 72, 64)        18496     \n",
            "_________________________________________________________________\n",
            "max_pooling2d_14 (MaxPooling (None, 36, 36, 64)        0         \n",
            "_________________________________________________________________\n",
            "conv2d_15 (Conv2D)           (None, 34, 34, 64)        36928     \n",
            "_________________________________________________________________\n",
            "max_pooling2d_15 (MaxPooling (None, 17, 17, 64)        0         \n",
            "_________________________________________________________________\n",
            "flatten_5 (Flatten)          (None, 18496)             0         \n",
            "_________________________________________________________________\n",
            "dense_9 (Dense)              (None, 128)               2367616   \n",
            "_________________________________________________________________\n",
            "activation_9 (Activation)    (None, 128)               0         \n",
            "_________________________________________________________________\n",
            "dropout_5 (Dropout)          (None, 128)               0         \n",
            "_________________________________________________________________\n",
            "dense_10 (Dense)             (None, 1)                 129       \n",
            "_________________________________________________________________\n",
            "activation_10 (Activation)   (None, 1)                 0         \n",
            "=================================================================\n",
            "Total params: 2,424,065\n",
            "Trainable params: 2,424,065\n",
            "Non-trainable params: 0\n",
            "_________________________________________________________________\n"
          ],
          "name": "stdout"
        }
      ]
    },
    {
      "cell_type": "code",
      "metadata": {
        "id": "UjbxF7BcIQDf",
        "colab_type": "code",
        "colab": {
          "base_uri": "https://localhost:8080/",
          "height": 570
        },
        "outputId": "19f4de37-e514-4f11-9c45-c8ae474a0662"
      },
      "source": [
        "results = model.fit_generator(train,epochs=10,steps_per_epoch=150,\n",
        "                              validation_data = test, validation_steps = 12)"
      ],
      "execution_count": 47,
      "outputs": [
        {
          "output_type": "stream",
          "text": [
            "Epoch 1/10\n",
            " 87/150 [================>.............] - ETA: 6:15 - loss: 0.6767 - accuracy: 0.5632"
          ],
          "name": "stdout"
        },
        {
          "output_type": "stream",
          "text": [
            "/usr/local/lib/python3.6/dist-packages/keras/utils/data_utils.py:616: UserWarning: The input 848 could not be retrieved. It could be because a worker has died.\n",
            "  UserWarning)\n"
          ],
          "name": "stderr"
        },
        {
          "output_type": "stream",
          "text": [
            "150/150 [==============================] - 916s 6s/step - loss: 0.6796 - accuracy: 0.5546 - val_loss: 0.6146 - val_accuracy: 0.6198\n",
            "Epoch 2/10\n",
            "150/150 [==============================] - 937s 6s/step - loss: 0.6658 - accuracy: 0.5656 - val_loss: 0.7031 - val_accuracy: 0.5833\n",
            "Epoch 3/10\n",
            "116/150 [======================>.......] - ETA: 3:31 - loss: 0.6887 - accuracy: 0.5550"
          ],
          "name": "stdout"
        },
        {
          "output_type": "stream",
          "text": [
            "/usr/local/lib/python3.6/dist-packages/keras/utils/data_utils.py:616: UserWarning: The input 1016 could not be retrieved. It could be because a worker has died.\n",
            "  UserWarning)\n"
          ],
          "name": "stderr"
        },
        {
          "output_type": "stream",
          "text": [
            "150/150 [==============================] - 999s 7s/step - loss: 0.6870 - accuracy: 0.5596 - val_loss: 0.6861 - val_accuracy: 0.5625\n",
            "Epoch 4/10\n",
            "150/150 [==============================] - 844s 6s/step - loss: 0.6615 - accuracy: 0.5962 - val_loss: 0.6779 - val_accuracy: 0.5781\n",
            "Epoch 5/10\n",
            "150/150 [==============================] - 889s 6s/step - loss: 0.6609 - accuracy: 0.6004 - val_loss: 0.6078 - val_accuracy: 0.5885\n",
            "Epoch 6/10\n",
            "150/150 [==============================] - 883s 6s/step - loss: 0.6622 - accuracy: 0.5979 - val_loss: 0.6936 - val_accuracy: 0.5729\n",
            "Epoch 7/10\n",
            "150/150 [==============================] - 951s 6s/step - loss: 0.6385 - accuracy: 0.6121 - val_loss: 0.6495 - val_accuracy: 0.6927\n",
            "Epoch 8/10\n",
            "150/150 [==============================] - 938s 6s/step - loss: 0.6395 - accuracy: 0.6187 - val_loss: 0.6653 - val_accuracy: 0.6510\n",
            "Epoch 9/10\n",
            " 53/150 [=========>....................] - ETA: 10:25 - loss: 0.6418 - accuracy: 0.6262"
          ],
          "name": "stdout"
        },
        {
          "output_type": "stream",
          "text": [
            "/usr/local/lib/python3.6/dist-packages/keras/utils/data_utils.py:616: UserWarning: The input 920 could not be retrieved. It could be because a worker has died.\n",
            "  UserWarning)\n"
          ],
          "name": "stderr"
        },
        {
          "output_type": "stream",
          "text": [
            " 93/150 [=================>............] - ETA: 6:29 - loss: 0.6295 - accuracy: 0.6351"
          ],
          "name": "stdout"
        },
        {
          "output_type": "stream",
          "text": [
            "/usr/local/lib/python3.6/dist-packages/keras/utils/data_utils.py:616: UserWarning: The input 1053 could not be retrieved. It could be because a worker has died.\n",
            "  UserWarning)\n"
          ],
          "name": "stderr"
        },
        {
          "output_type": "stream",
          "text": [
            "150/150 [==============================] - 1072s 7s/step - loss: 0.6301 - accuracy: 0.6379 - val_loss: 0.6767 - val_accuracy: 0.4948\n",
            "Epoch 10/10\n",
            " 54/150 [=========>....................] - ETA: 11:59 - loss: 0.6696 - accuracy: 0.5810"
          ],
          "name": "stdout"
        },
        {
          "output_type": "stream",
          "text": [
            "/usr/local/lib/python3.6/dist-packages/keras/utils/data_utils.py:616: UserWarning: The input 1155 could not be retrieved. It could be because a worker has died.\n",
            "  UserWarning)\n"
          ],
          "name": "stderr"
        },
        {
          "output_type": "stream",
          "text": [
            "150/150 [==============================] - 768s 5s/step - loss: 0.6584 - accuracy: 0.6042 - val_loss: 0.6345 - val_accuracy: 0.6302\n"
          ],
          "name": "stdout"
        }
      ]
    },
    {
      "cell_type": "code",
      "metadata": {
        "id": "JCuXaghwDK5i",
        "colab_type": "code",
        "colab": {
          "base_uri": "https://localhost:8080/",
          "height": 195
        },
        "outputId": "baa20a3a-90cf-4ad3-fd22-30fb16d533ae"
      },
      "source": [
        "results.history['accuracy']"
      ],
      "execution_count": 48,
      "outputs": [
        {
          "output_type": "execute_result",
          "data": {
            "text/plain": [
              "[0.5545833,\n",
              " 0.56563544,\n",
              " 0.5595833,\n",
              " 0.59625,\n",
              " 0.60041666,\n",
              " 0.59791666,\n",
              " 0.6120833,\n",
              " 0.61875,\n",
              " 0.6379167,\n",
              " 0.6041667]"
            ]
          },
          "metadata": {
            "tags": []
          },
          "execution_count": 48
        }
      ]
    },
    {
      "cell_type": "code",
      "metadata": {
        "id": "ROLBrxfnqO1C",
        "colab_type": "code",
        "colab": {
          "base_uri": "https://localhost:8080/",
          "height": 287
        },
        "outputId": "af6f9a54-a0f3-4b91-f5a9-617cf8ee5ca7"
      },
      "source": [
        "from matplotlib import pyplot as plt\n",
        "# %matplotlib inline\n",
        "import cv2 as cv\n",
        "img = cv.imread('/content/drive/My Drive/Data Science/Cats & Dog CNN/Colab Zip Extracted/dogscats/train/dogs/dog.1.jpg')\n",
        "plt.imshow(img)"
      ],
      "execution_count": 58,
      "outputs": [
        {
          "output_type": "execute_result",
          "data": {
            "text/plain": [
              "<matplotlib.image.AxesImage at 0x7f92131f3f60>"
            ]
          },
          "metadata": {
            "tags": []
          },
          "execution_count": 58
        },
        {
          "output_type": "display_data",
          "data": {
            "image/png": "[encoded data removed]",
            "text/plain": [
              "<Figure size 432x288 with 1 Axes>"
            ]
          },
          "metadata": {
            "tags": [],
            "needs_background": "light"
          }
        }
      ]
    },
    {
      "cell_type": "code",
      "metadata": {
        "id": "3baUlsFcBeh3",
        "colab_type": "code",
        "colab": {
          "base_uri": "https://localhost:8080/",
          "height": 52
        },
        "outputId": "6a3e2cfb-a149-40a8-9b2f-7366ec229aa6"
      },
      "source": [
        "from keras.preprocessing import image\n",
        "dog_img = image.load_img('/content/drive/My Drive/Data Science/Cats & Dog CNN/Colab Zip Extracted/dogscats/train/dogs/dog.1.jpg',target_size=(150,150))\n",
        "dog_img = image.img_to_array(dog_img)\n",
        "print(dog_img.shape)\n",
        "dog_img = np.expand_dims(dog_img,axis=0)\n",
        "print(dog_img.shape)\n",
        "dog_img = dog_img/255"
      ],
      "execution_count": 49,
      "outputs": [
        {
          "output_type": "stream",
          "text": [
            "(150, 150, 3)\n",
            "(1, 150, 150, 3)\n"
          ],
          "name": "stdout"
        }
      ]
    },
    {
      "cell_type": "code",
      "metadata": {
        "id": "NHAw1sac7OL3",
        "colab_type": "code",
        "colab": {
          "base_uri": "https://localhost:8080/",
          "height": 35
        },
        "outputId": "7cff2509-9fc4-4fb3-8521-eea3d40f7174"
      },
      "source": [
        "from sklearn.metrics import confusion_matrix, classification_report\n",
        "model.predict_classes(dog_img)"
      ],
      "execution_count": 50,
      "outputs": [
        {
          "output_type": "execute_result",
          "data": {
            "text/plain": [
              "array([[1]], dtype=int32)"
            ]
          },
          "metadata": {
            "tags": []
          },
          "execution_count": 50
        }
      ]
    },
    {
      "cell_type": "code",
      "metadata": {
        "id": "K2IQl5s3DgRU",
        "colab_type": "code",
        "colab": {
          "base_uri": "https://localhost:8080/",
          "height": 35
        },
        "outputId": "19978a5c-b05d-4a92-fa23-0c4751d81f4c"
      },
      "source": [
        "model.predict(dog_img)"
      ],
      "execution_count": 51,
      "outputs": [
        {
          "output_type": "execute_result",
          "data": {
            "text/plain": [
              "array([[0.54570085]], dtype=float32)"
            ]
          },
          "metadata": {
            "tags": []
          },
          "execution_count": 51
        }
      ]
    }
  ]
}